{
  "nbformat": 4,
  "nbformat_minor": 0,
  "metadata": {
    "colab": {
      "provenance": []
    },
    "kernelspec": {
      "name": "python3",
      "display_name": "Python 3"
    },
    "language_info": {
      "name": "python"
    }
  },
  "cells": [
    {
      "cell_type": "markdown",
      "source": [
        "# Laboratorio: Red Neuronal con MNIST"
      ],
      "metadata": {
        "id": "QGGSmsIWieVQ"
      }
    },
    {
      "cell_type": "markdown",
      "source": [
        "##Paso 1: Cargar el conjunto de datos MNIST (1 punto)\n",
        "Ejecuta el siguiente bloque para descargar y explorar el conjunto de datos."
      ],
      "metadata": {
        "id": "RKY7Z92Uit3e"
      }
    },
    {
      "cell_type": "code",
      "source": [
        "from tensorflow.keras.datasets import mnist\n",
        "\n",
        "# Cargar datos\n",
        "(x_train, y_train), (x_test, y_test) = mnist.load_data()\n",
        "\n",
        "print(\"Tamaño del set de entrenamiento:\", x_train.shape)\n",
        "print(\"Tamaño del set de test:\", x_test.shape)\n"
      ],
      "metadata": {
        "colab": {
          "base_uri": "https://localhost:8080/"
        },
        "id": "FVAarfFtiy8h",
        "outputId": "4cc8725c-9ad7-4492-e087-94791f44dcf7"
      },
      "execution_count": 1,
      "outputs": [
        {
          "output_type": "stream",
          "name": "stdout",
          "text": [
            "Downloading data from https://storage.googleapis.com/tensorflow/tf-keras-datasets/mnist.npz\n",
            "\u001b[1m11490434/11490434\u001b[0m \u001b[32m━━━━━━━━━━━━━━━━━━━━\u001b[0m\u001b[37m\u001b[0m \u001b[1m0s\u001b[0m 0us/step\n",
            "Tamaño del set de entrenamiento: (60000, 28, 28)\n",
            "Tamaño del set de test: (10000, 28, 28)\n"
          ]
        }
      ]
    },
    {
      "cell_type": "markdown",
      "source": [
        "##Paso 2: Visualizar ejemplos del dataset (1 punto)"
      ],
      "metadata": {
        "id": "KV7q4C6Ai5-K"
      }
    },
    {
      "cell_type": "code",
      "source": [
        "import matplotlib.pyplot as plt\n",
        "\n",
        "# Mostrar 5 imágenes del dataset\n",
        "for i in range(5):\n",
        "    plt.subplot(1, 5, i+1)\n",
        "    plt.imshow(x_train[i], cmap='gray')\n",
        "    plt.title(f\"Etiqueta: {y_train[i]}\")\n",
        "    plt.axis('off')\n",
        "plt.show()\n"
      ],
      "metadata": {
        "colab": {
          "base_uri": "https://localhost:8080/",
          "height": 144
        },
        "id": "iOHgyg3Hi7jM",
        "outputId": "f8ce3bae-220a-438f-acd5-1163534cbeb9"
      },
      "execution_count": 2,
      "outputs": [
        {
          "output_type": "display_data",
          "data": {
            "text/plain": [
              "<Figure size 640x480 with 5 Axes>"
            ],
            "image/png": "[encoded data removed]"
          },
          "metadata": {}
        }
      ]
    },
    {
      "cell_type": "markdown",
      "source": [
        "##Paso 3: Preprocesamiento (1 punto)"
      ],
      "metadata": {
        "id": "zZOCuD_MjG1m"
      }
    },
    {
      "cell_type": "code",
      "source": [
        "from tensorflow.keras.utils import to_categorical\n",
        "\n",
        "# Normalización\n",
        "x_train = x_train / 255.0\n",
        "x_test = x_test / 255.0\n",
        "\n",
        "# Aplanar imágenes\n",
        "x_train = x_train.reshape(-1, 28*28)\n",
        "x_test = x_test.reshape(-1, 28*28)\n",
        "\n",
        "# Codificación one-hot\n",
        "y_train = to_categorical(y_train, 10)\n",
        "y_test = to_categorical(y_test, 10)\n"
      ],
      "metadata": {
        "id": "8_rXOnxtjH8o"
      },
      "execution_count": 3,
      "outputs": []
    },
    {
      "cell_type": "markdown",
      "source": [
        "##Paso 4: Definir la red neuronal (2 puntos)"
      ],
      "metadata": {
        "id": "1PgSjbb4jKRf"
      }
    },
    {
      "cell_type": "code",
      "source": [
        "from tensorflow.keras.models import Sequential\n",
        "from tensorflow.keras.layers import Dense\n",
        "\n",
        "# Definición del modelo\n",
        "model = Sequential()\n",
        "model.add(Dense(128, activation='relu', input_shape=(784,)))\n",
        "model.add(Dense(10, activation='softmax'))\n",
        "\n",
        "# Compilación del modelo\n",
        "model.compile(optimizer='adam', loss='categorical_crossentropy', metrics=['accuracy'])\n"
      ],
      "metadata": {
        "colab": {
          "base_uri": "https://localhost:8080/"
        },
        "id": "12LKzCWBjNgg",
        "outputId": "2e5d4c84-f990-4145-d092-c9db9e513c8d"
      },
      "execution_count": 4,
      "outputs": [
        {
          "output_type": "stream",
          "name": "stderr",
          "text": [
            "/usr/local/lib/python3.11/dist-packages/keras/src/layers/core/dense.py:87: UserWarning: Do not pass an `input_shape`/`input_dim` argument to a layer. When using Sequential models, prefer using an `Input(shape)` object as the first layer in the model instead.\n",
            "  super().__init__(activity_regularizer=activity_regularizer, **kwargs)\n"
          ]
        }
      ]
    },
    {
      "cell_type": "markdown",
      "source": [
        "##Paso 5: Entrenar el modelo (1 punto)"
      ],
      "metadata": {
        "id": "zWwhFtSpjPZU"
      }
    },
    {
      "cell_type": "code",
      "source": [
        "# Entrenamiento del modelo\n",
        "model.fit(x_train, y_train, epochs=5, batch_size=32, verbose=1)\n"
      ],
      "metadata": {
        "colab": {
          "base_uri": "https://localhost:8080/"
        },
        "id": "1hr71HvXjUZK",
        "outputId": "d7e637b7-b342-47ea-90f6-feaef76c2ff7"
      },
      "execution_count": 5,
      "outputs": [
        {
          "output_type": "stream",
          "name": "stdout",
          "text": [
            "Epoch 1/5\n",
            "\u001b[1m1875/1875\u001b[0m \u001b[32m━━━━━━━━━━━━━━━━━━━━\u001b[0m\u001b[37m\u001b[0m \u001b[1m9s\u001b[0m 4ms/step - accuracy: 0.8805 - loss: 0.4263\n",
            "Epoch 2/5\n",
            "\u001b[1m1875/1875\u001b[0m \u001b[32m━━━━━━━━━━━━━━━━━━━━\u001b[0m\u001b[37m\u001b[0m \u001b[1m9s\u001b[0m 4ms/step - accuracy: 0.9653 - loss: 0.1228\n",
            "Epoch 3/5\n",
            "\u001b[1m1875/1875\u001b[0m \u001b[32m━━━━━━━━━━━━━━━━━━━━\u001b[0m\u001b[37m\u001b[0m \u001b[1m10s\u001b[0m 4ms/step - accuracy: 0.9769 - loss: 0.0803\n",
            "Epoch 4/5\n",
            "\u001b[1m1875/1875\u001b[0m \u001b[32m━━━━━━━━━━━━━━━━━━━━\u001b[0m\u001b[37m\u001b[0m \u001b[1m8s\u001b[0m 4ms/step - accuracy: 0.9829 - loss: 0.0552\n",
            "Epoch 5/5\n",
            "\u001b[1m1875/1875\u001b[0m \u001b[32m━━━━━━━━━━━━━━━━━━━━\u001b[0m\u001b[37m\u001b[0m \u001b[1m10s\u001b[0m 4ms/step - accuracy: 0.9864 - loss: 0.0432\n"
          ]
        },
        {
          "output_type": "execute_result",
          "data": {
            "text/plain": [
              "<keras.src.callbacks.history.History at 0x7fd83a600250>"
            ]
          },
          "metadata": {},
          "execution_count": 5
        }
      ]
    },
    {
      "cell_type": "markdown",
      "source": [
        "##Paso 6: Evaluar el modelo (1 punto)"
      ],
      "metadata": {
        "id": "ws1Yhy2kjW-5"
      }
    },
    {
      "cell_type": "code",
      "source": [
        "# Evaluación en el conjunto de prueba\n",
        "test_loss, test_accuracy = model.evaluate(x_test, y_test)\n",
        "print(f\"Precisión en el set de prueba: {test_accuracy:.4f}\")\n"
      ],
      "metadata": {
        "colab": {
          "base_uri": "https://localhost:8080/"
        },
        "id": "9X4DUPndjck4",
        "outputId": "7771b310-1154-4c3a-d9f2-585c05a9873c"
      },
      "execution_count": 6,
      "outputs": [
        {
          "output_type": "stream",
          "name": "stdout",
          "text": [
            "\u001b[1m313/313\u001b[0m \u001b[32m━━━━━━━━━━━━━━━━━━━━\u001b[0m\u001b[37m\u001b[0m \u001b[1m1s\u001b[0m 2ms/step - accuracy: 0.9719 - loss: 0.0913\n",
            "Precisión en el set de prueba: 0.9761\n"
          ]
        }
      ]
    },
    {
      "cell_type": "markdown",
      "source": [
        "##Preguntas de Reflexión (3 puntos)\n",
        "###¿Qué ventaja observas al usar codificación one-hot para las etiquetas?\n",
        " Representación multiclase clara, necesaria para aplicar funciones como categorical_crossentropy, tambien evita confusiones al interpretar clases como valores ordinales.\n",
        "\n",
        "###¿Qué ocurre si aumentas o disminuyes el número de neuronas ocultas?\n",
        "Aumentar neuronas puede mejorar la capacidad de aprendizaje del modelo, pero también aumenta el riesgo de sobreajuste. Disminuirlas puede reducir la capacidad del modelo para aprender patrones complejos.\n",
        "\n",
        "###¿Qué alternativa propondrías al optimizador adam y por qué?\n",
        "El uso de RMSprop es una buena alternativa para problemas con datos no estacionarios, ya que ajusta dinámicamente la tasa de aprendizaje para cada parámetro.\n",
        "\n",
        "###¿Cómo cambia el desempeño si entrenas más épocas? ¿Cuál es el riesgo?\n",
        "El desempeño puede mejorar inicialmente, pero si se entrena demasiado, el modelo puede sobreajustarse, perdiendo capacidad de generalización en datos nuevos.\n",
        "\n",
        "###¿Por qué es importante dividir en conjuntos de entrenamiento y prueba?\n",
        "Es importante porque sirve para evaluar el rendimiento del modelo en datos no vistos y asegurar que generaliza correctamente, evitando que solo memorice el conjunto de entrenamiento."
      ],
      "metadata": {
        "id": "y85tNWPojiC_"
      }
    }
  ]
}